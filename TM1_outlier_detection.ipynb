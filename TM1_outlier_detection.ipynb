{
  "metadata": {
    "kernelspec": {
      "name": "python",
      "display_name": "Python (Pyodide)",
      "language": "python"
    },
    "language_info": {
      "codemirror_mode": {
        "name": "python",
        "version": 3
      },
      "file_extension": ".py",
      "mimetype": "text/x-python",
      "name": "python",
      "nbconvert_exporter": "python",
      "pygments_lexer": "ipython3",
      "version": "3.8"
    }
  },
  "nbformat_minor": 4,
  "nbformat": 4,
  "cells": [
    {
      "cell_type": "markdown",
      "source": "<h1 style=\"font-size:42px; text-align:center; margin-bottom:30px;\"><span style=\"color:SteelBlue\">TM1py:</span> Outliers detection</h1>\n<hr>",
      "metadata": {}
    },
    {
      "cell_type": "markdown",
      "source": "The first step you should complete before actually stepping through this code is to install all required dependencies. Assuming you already have Anaconda installed, you'll  need to install the following libraries:\n<pre>pip install TM1py</pre>\n<pre>pip install scikit-learn</pre>\n<pre>pip install matplotlib</pre>",
      "metadata": {}
    },
    {
      "cell_type": "markdown",
      "source": "## Step 1: Import the required modules",
      "metadata": {}
    },
    {
      "cell_type": "code",
      "source": "import pandas as pd\nfrom sklearn.preprocessing import StandardScaler\nfrom sklearn.cluster import DBSCAN\nimport matplotlib.pyplot as plt",
      "metadata": {},
      "outputs": [],
      "execution_count": 1
    },
    {
      "cell_type": "markdown",
      "source": "## Step 2: Setup your TM1 parameters",
      "metadata": {}
    },
    {
      "cell_type": "markdown",
      "source": "### TM1 Server Parameters\nPopulate your TM1 server parameters below :",
      "metadata": {}
    },
    {
      "cell_type": "code",
      "source": "#Server address\naddress = 'localhost'\n#HTTP port number - this can be found in your config file\nport = '8892'\n#username\nuser = 'admin'\n#password\npassword = 'apple'\n#SSL parameter - this can be found in your config file\nssl = True",
      "metadata": {},
      "outputs": [],
      "execution_count": 2
    },
    {
      "cell_type": "markdown",
      "source": "## Step 3: Get TM1 Data\nThe following code obtains a data set from TM1 based on the cube and view specified above. The resulting dataset is transformed into a pandas dataframe.",
      "metadata": {}
    },
    {
      "cell_type": "markdown",
      "source": "Before importing any data, create the view you would like to import into the data frame. Populate the fields below.",
      "metadata": {}
    },
    {
      "cell_type": "code",
      "source": "#specify the cube\ncube_name = 'Sales'\n#specify the view\nview_name = 'Sales_2021_2022'",
      "metadata": {},
      "outputs": [],
      "execution_count": 3
    },
    {
      "cell_type": "code",
      "source": "tm1 = null\nwith TM1Service(address= address, port=port, user=user, password=password, ssl=ssl) as tm1:\n    \n    # Extract pnl data from specified cube view\n    raw_data = tm1.cubes.cells.get_view_content(cube_name=cube_name, view_name=view_name, private=False)\n\n    # Build pandas DataFrame fram raw cellset data\n    df = Utils.build_pandas_dataframe_from_cellset(raw_data, multiindex=False)",
      "metadata": {
        "collapsed": false,
        "scrolled": true,
        "jupyter": {
          "outputs_hidden": false
        }
      },
      "outputs": [],
      "execution_count": 4
    },
    {
      "cell_type": "markdown",
      "source": "## Step 4: Outlier detection",
      "metadata": {}
    },
    {
      "cell_type": "markdown",
      "source": "First, we select the columns PRICE, QUANTITY and SKU as features for clustering.\nAfterwards, the data is normalized using StandardScaler to ensure that each feature contributes equally to the clustering process.\nDBSCAN is applied to the normalized data. The parameters eps=0.5 and min_samples=5 control the density required to form a cluster. You can tune these values based on your data distribution.\nThe \"Cluster\" column is added to the original dataset to store the cluster labels for each data point. Points labeled -1 are considered outliers.",
      "metadata": {}
    },
    {
      "cell_type": "code",
      "source": "# Select relevant columns for clustering (PRICE, QUANTITY, SKU)\nfeatures = df[['PRICE', 'QUANTITY', 'SKU']]\n\n\n# Normalize the features using StandardScaler\nscaler = StandardScaler()\nfeatures_scaled = scaler.fit_transform(features)\n\n# Apply DBSCAN algorithm\n# You can adjust eps (radius of neighborhood) and min_samples (min points to form a cluster)\ndbscan = DBSCAN(eps=0.5, min_samples=5)  # You can tune eps and min_samples based on your data\nclusters = dbscan.fit_predict(features_scaled)\n\n# Add the cluster labels to the original dataframe\ndf['Cluster'] = clusters",
      "metadata": {},
      "outputs": [],
      "execution_count": 5
    },
    {
      "cell_type": "markdown",
      "source": "A scatter plot shows the clustering result based on PRICE and QUANTITY, where different clusters are color-coded. The color bar indicates the cluster labels, with -1 representing outliers.",
      "metadata": {}
    },
    {
      "cell_type": "code",
      "source": "# Visualize the clusters using PRICE and QUANTITY\nplt.figure(figsize=(10, 6))\nplt.scatter(df['PRICE'], df['QUANTITY'], c=df['Cluster'], cmap='plasma')\nplt.title('DBSCAN Clustering of Sales Data')\nplt.xlabel('Price')\nplt.ylabel('Quantity')\nplt.colorbar(label='Cluster')\nplt.show()\n\n# Filter and display only the outliers (where Cluster = -1)\noutliers = df[df['Cluster'] == -1]",
      "metadata": {},
      "outputs": [],
      "execution_count": 6
    },
    {
      "cell_type": "markdown",
      "source": "<img src=\"https://raw.githubusercontent.com/missaoui/TM1-outlier-detection/main/Outlier2310.png\" />\n",
      "metadata": {}
    },
    {
      "cell_type": "markdown",
      "source": "The following table shows all the outliers : ",
      "metadata": {}
    },
    {
      "cell_type": "markdown",
      "source": "<img src=\"https://raw.githubusercontent.com/missaoui/TM1-outlier-detection/main/Outliers table.jpg\" />\n",
      "metadata": {}
    },
    {
      "cell_type": "markdown",
      "source": "Let's analyse why we have 3 lines as outliers for SKU 3. The boxplot shows the distribution of prices for SKU 3. The median price is around 35-40, with a minimum close to 17 and a maximum reaching 70. The box (IQR) shows that the majority of prices are clustered between 30 and 50, with some variance but no extreme outliers in price.",
      "metadata": {}
    },
    {
      "cell_type": "markdown",
      "source": "<img src=\"https://raw.githubusercontent.com/missaoui/TM1-outlier-detection/main/boxplotprice_SKU3.png\" />",
      "metadata": {}
    },
    {
      "cell_type": "markdown",
      "source": "The boxplot for quantity shows more variance, with a median around 200. There are many outliers, with quantities reaching up to 810, but most transactions for SKU 3 occur between 100 and 300. This suggests that while some large purchases occur, they are not frequent. This is why the DBSCAN algorithm detects three lines as outliers.",
      "metadata": {}
    },
    {
      "cell_type": "markdown",
      "source": "<img src=\"https://raw.githubusercontent.com/missaoui/TM1-outlier-detection/main/boxplotquanity_SKU3.png\" />",
      "metadata": {}
    },
    {
      "cell_type": "markdown",
      "source": "## Step 5: Send the outliers into TM1",
      "metadata": {}
    },
    {
      "cell_type": "code",
      "source": "# Prepare outliers for insertion into the cube\n# Example cube dimensions: Version, Period, SKU, Customer, Geography, Measures\nversion = \"Actual\"\nmeasure = \"Outlier\"\n\n# Iterate through the outliers and build the data for TM1 insertion\ndata_to_insert = []\nfor _, row in outliers.iterrows():\n    period = row['DATE'].strftime('%Y-%m')  # Assuming period is in YYYY-MM format\n    sku = str(row['SKU'])\n    customer = str(row['CUSTOMER'])\n    geography = str(row['CITY'])\n    \n    # The outlier flag (e.g., 1 for outlier) will be stored in the Measures dimension as 'Outlier'\n    data_to_insert.append({\n        (\"Actual\", period, sku, customer, geography, \"Outlier\"): 1  # 1 indicates an outlier\n    })\n\n# Define the cube name (replace 'Sales_Cube' with your actual cube name)\ncube_name = 'Sales_Cube'\n\n# Insert the outlier data into the TM1 cube\nfor data in data_to_insert:\n    tm1.cubes.cells.write_values(cube_name, data)\n\nprint(\"Outliers successfully inserted into TM1 cube!\")\n\n# Disconnect from TM1\ntm1.logout()\n",
      "metadata": {
        "trusted": true
      },
      "outputs": [],
      "execution_count": null
    }
  ]
}